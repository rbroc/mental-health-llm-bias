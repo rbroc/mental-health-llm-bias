{
 "cells": [
  {
   "cell_type": "code",
   "execution_count": 38,
   "metadata": {},
   "outputs": [],
   "source": [
    "import pandas as pd"
   ]
  },
  {
   "cell_type": "code",
   "execution_count": 39,
   "metadata": {},
   "outputs": [],
   "source": [
    "path = \"/home/Plaza/mental-health-llm-bias/outputs/\""
   ]
  },
  {
   "cell_type": "code",
   "execution_count": 40,
   "metadata": {},
   "outputs": [],
   "source": [
    "simple_pronoun = pd.read_csv(path + 'narratives/phq-9_paraphrase_simple_pronoun_replacement.csv')\n",
    "narrative_pronoun = pd.read_csv(path + 'narratives/phq-9_paraphrase_narrative_pronoun_replacement.csv')\n",
    "story_pronoun = pd.read_csv(path + 'narratives/phq-9_paraphrase_story_pronoun_replacement.csv')"
   ]
  },
  {
   "cell_type": "code",
   "execution_count": 41,
   "metadata": {},
   "outputs": [],
   "source": [
    "simple_pronoun_sample = simple_pronoun.groupby('pronoun_replacement').sample(10)[['narrative_raw', 'narrative_paraphrased', 'pronoun_replacement', 'text_w_pronoun']]\n",
    "simple_pronoun_sample.to_csv(path + 'to_review/phq-9_paraphrase_simple_10_per_pronoun.csv', index=False)"
   ]
  },
  {
   "cell_type": "code",
   "execution_count": 42,
   "metadata": {},
   "outputs": [],
   "source": [
    "narrative_pronoun_sample = narrative_pronoun.groupby('pronoun_replacement').sample(10)[['narrative_raw', 'narrative_paraphrased', 'pronoun_replacement', 'text_w_pronoun']]\n",
    "narrative_pronoun_sample.to_csv(path + 'to_review/phq-9_paraphrase_narrative_10_per_pronoun.csv', index=False)"
   ]
  },
  {
   "cell_type": "code",
   "execution_count": 43,
   "metadata": {},
   "outputs": [],
   "source": [
    "story_pronoun_sample = story_pronoun.groupby('pronoun_replacement').sample(10)[['narrative_raw', 'narrative_paraphrased', 'pronoun_replacement', 'text_w_pronoun']]\n",
    "story_pronoun_sample.to_csv(path + 'to_review/phq-9_paraphrase_story_10_per_pronoun.csv', index=False)"
   ]
  }
 ],
 "metadata": {
  "kernelspec": {
   "display_name": "emotion",
   "language": "python",
   "name": "python3"
  },
  "language_info": {
   "codemirror_mode": {
    "name": "ipython",
    "version": 3
   },
   "file_extension": ".py",
   "mimetype": "text/x-python",
   "name": "python",
   "nbconvert_exporter": "python",
   "pygments_lexer": "ipython3",
   "version": "3.9.18"
  }
 },
 "nbformat": 4,
 "nbformat_minor": 2
}
